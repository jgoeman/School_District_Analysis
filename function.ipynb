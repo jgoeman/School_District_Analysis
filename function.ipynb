{
 "cells": [
  {
   "cell_type": "code",
   "execution_count": 1,
   "id": "6e60bfb0-5508-4260-aee6-1bc8cd4e1185",
   "metadata": {},
   "outputs": [],
   "source": [
    "# Define the function \"say_hello\" so it prints \"Hello!\" when called.\n",
    "def say_hello():\n",
    "    print(\"Hello!\")"
   ]
  },
  {
   "cell_type": "code",
   "execution_count": 3,
   "id": "13232dcd-3eea-4633-b955-d6861e1ffb9e",
   "metadata": {},
   "outputs": [
    {
     "name": "stdout",
     "output_type": "stream",
     "text": [
      "Hello!\n"
     ]
    }
   ],
   "source": [
    "say_hello()"
   ]
  },
  {
   "cell_type": "code",
   "execution_count": 6,
   "id": "d77dabea-8cf7-4015-b409-86c74a9b97a5",
   "metadata": {},
   "outputs": [],
   "source": [
    " def say_something(something):\n",
    "        print(something)"
   ]
  },
  {
   "cell_type": "code",
   "execution_count": 7,
   "id": "fddbc2f8-f4d9-4127-ac02-22f5fbbb4118",
   "metadata": {},
   "outputs": [
    {
     "data": {
      "text/plain": [
       "<function __main__.say_something(something)>"
      ]
     },
     "execution_count": 7,
     "metadata": {},
     "output_type": "execute_result"
    }
   ],
   "source": [
    "say_something"
   ]
  },
  {
   "cell_type": "code",
   "execution_count": 10,
   "id": "be2a4778-611c-4061-95dd-b40a9b1750b9",
   "metadata": {},
   "outputs": [
    {
     "name": "stdout",
     "output_type": "stream",
     "text": [
      "dude\n"
     ]
    }
   ],
   "source": [
    "say_somthing(\"dude\")"
   ]
  },
  {
   "cell_type": "code",
   "execution_count": 11,
   "id": "7c56df4d-3f40-44e6-bb66-39b956c424b7",
   "metadata": {},
   "outputs": [
    {
     "name": "stdout",
     "output_type": "stream",
     "text": [
      "Hi, my name is Jane. I'm learning Python!\n"
     ]
    }
   ],
   "source": [
    "Jane_says = \"Hi, my name is Jane. I'm learning Python!\"\n",
    "say_something(Jane_says)"
   ]
  },
  {
   "cell_type": "code",
   "execution_count": 12,
   "id": "5d5fdc38-3225-4d7b-88ad-8f7d7e3ef160",
   "metadata": {},
   "outputs": [],
   "source": [
    "# Define a function that calculates the percentage of students that passed both # math and reading and prints the passing percentage to the output when the\n",
    "# function is called.\n",
    "def passing_math_percent(pass_math_count, student_count):\n",
    "    return pass_math_count / float(student_count) * 100"
   ]
  },
  {
   "cell_type": "code",
   "execution_count": 13,
   "id": "ba2c7fc3-f7d1-4c1d-94c9-131dca74833e",
   "metadata": {},
   "outputs": [],
   "source": [
    "pass_math_count = 29730\n",
    "student_count = 39170\n",
    "pass_read_count = 31500"
   ]
  },
  {
   "cell_type": "code",
   "execution_count": 14,
   "id": "5f88ccff-c5a7-4d75-9ee3-bc9574b72811",
   "metadata": {},
   "outputs": [
    {
     "data": {
      "text/plain": [
       "80.4186877712535"
      ]
     },
     "execution_count": 14,
     "metadata": {},
     "output_type": "execute_result"
    }
   ],
   "source": [
    "passing_math_percent(pass_read_count,student_count)"
   ]
  },
  {
   "cell_type": "code",
   "execution_count": 15,
   "id": "24a0b4fb-12bc-4eb4-b7cc-a2318218fa8b",
   "metadata": {},
   "outputs": [],
   "source": [
    "# A list of my grades.\n",
    "my_grades = ['B', 'C', 'B' , 'D']"
   ]
  },
  {
   "cell_type": "code",
   "execution_count": 16,
   "id": "49e3a904-3496-4eea-8647-b8a46ee6ad6d",
   "metadata": {},
   "outputs": [],
   "source": [
    "import pandas as pd"
   ]
  },
  {
   "cell_type": "code",
   "execution_count": 21,
   "id": "6fed3562-f7fa-46dc-b2df-7248aab41f0f",
   "metadata": {},
   "outputs": [
    {
     "data": {
      "text/plain": [
       "0    B\n",
       "1    C\n",
       "2    B\n",
       "3    D\n",
       "dtype: object"
      ]
     },
     "execution_count": 21,
     "metadata": {},
     "output_type": "execute_result"
    }
   ],
   "source": [
    "# Conver the my_grades to a series\n",
    "my_grades = pd.Series(my_grades)\n",
    "my_grades"
   ]
  },
  {
   "cell_type": "code",
   "execution_count": 28,
   "id": "d0740919-99ee-4d61-a6a2-307689e352aa",
   "metadata": {},
   "outputs": [
    {
     "data": {
      "text/plain": [
       "0    A\n",
       "1    B\n",
       "2    A\n",
       "3    C\n",
       "dtype: object"
      ]
     },
     "execution_count": 28,
     "metadata": {},
     "output_type": "execute_result"
    }
   ],
   "source": [
    "map# Change the grades by one letter grade.\n",
    "my_grades.map({'B': 'A', 'C': 'B', 'D': 'C'})"
   ]
  },
  {
   "cell_type": "code",
   "execution_count": 33,
   "id": "743717ce-97a1-482c-88a8-f0606c8740cb",
   "metadata": {},
   "outputs": [
    {
     "name": "stdout",
     "output_type": "stream",
     "text": [
      "92\n",
      "85\n",
      "87\n",
      "98\n"
     ]
    }
   ],
   "source": [
    "# Using the format() function.\n",
    "my_grades = [92.34, 84.56, 86.78, 98.32]\n",
    "\n",
    "for grade in my_grades:\n",
    "    print(\"{:.0f}\".format(grade))"
   ]
  },
  {
   "cell_type": "code",
   "execution_count": null,
   "id": "8012dca9-0055-47b2-9054-384350c4317f",
   "metadata": {},
   "outputs": [],
   "source": []
  }
 ],
 "metadata": {
  "kernelspec": {
   "display_name": "PythonData",
   "language": "python",
   "name": "pythondata"
  },
  "language_info": {
   "codemirror_mode": {
    "name": "ipython",
    "version": 3
   },
   "file_extension": ".py",
   "mimetype": "text/x-python",
   "name": "python",
   "nbconvert_exporter": "python",
   "pygments_lexer": "ipython3",
   "version": "3.7.10"
  }
 },
 "nbformat": 4,
 "nbformat_minor": 5
}
